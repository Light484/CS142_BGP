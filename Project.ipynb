{
 "cells": [
  {
   "cell_type": "code",
   "execution_count": 3,
   "id": "269553e8-4799-4f7b-a3c2-51849655a7b4",
   "metadata": {},
   "outputs": [],
   "source": [
    "import math\n",
    "\n",
    "# helper functions\n",
    "\n",
    "# subgraph creation, bgpNetwork needs to be established and the provided asn value must be a STRING and present in the graph\n",
    "def bgpSubgraph(asn):\n",
    "    subgraphNodes = [asn] + list(bgpNetwork.neighbors(asn))\n",
    "    subgraph = bgpNetwork.subgraph(subgraphNodes)\n",
    "    return subgraph\n",
    "\n",
    "\n",
    "def haversine(lat1, lon1, lat2, lon2):\n",
    "    # convert coordinates into radian form for calculation\n",
    "    lat1, lon1, lat2, lon2 = map(math.radians, [lat1, lon1, lat2, lon2])\n",
    "\n",
    "    # get differences\n",
    "    dlat = lat2 - lat1\n",
    "    dlon = lon2 - lon1\n",
    "    \n",
    "    a = math.sin(dlat / 2)**2 + math.cos(lat1) * math.cos(lat2) * math.sin(dlon / 2)**2\n",
    "    c = 2 * math.atan2(math.sqrt(a), math.sqrt(1 - a))\n",
    "    return 6371 * c\n",
    "    "
   ]
  },
  {
   "cell_type": "code",
   "execution_count": 4,
   "id": "386bff15",
   "metadata": {},
   "outputs": [],
   "source": [
    "import requests\n",
    "import random\n",
    "import time\n",
    "import aiohttp\n",
    "import asyncio\n",
    "import nest_asyncio\n",
    "\n",
    "#gets rank and cone\n",
    "def get_caida_as_info(asn):\n",
    "    url = f\"https://api.asrank.caida.org/v2/restful/asns/{asn}\"\n",
    "    response = requests.get(url)\n",
    "    if response.status_code == 200:\n",
    "        data = response.json()\n",
    "        rank = data['data']['asn']['rank']\n",
    "        cone = data['data']['asn']['customerCone']['numberAsns']\n",
    "        return rank, cone\n",
    "    return None, None\n",
    "\n",
    "# doing the following separately from the above just so the methods are more clear with return\n",
    "# get latitude and longitude coordinates of an asn\n",
    "async def get_location(session, asn):\n",
    "    url = f\"https://api.asrank.caida.org/v2/restful/asns/{asn}\"\n",
    "    try:\n",
    "        async with session.get(url, timeout=aiohttp.ClientTimeout(total=10)) as response:\n",
    "            if response.status == 200:\n",
    "                data = await response.json()\n",
    "                if not data['data']['asn']:\n",
    "                    return asn, (None, None)\n",
    "                latitude = data['data']['asn']['latitude']\n",
    "                longitude = data['data']['asn']['longitude']\n",
    "                return asn, (latitude, longitude)\n",
    "    except asyncio.TimeoutError:\n",
    "        print(f\"Timeout while fetching ASN {asn}\")\n",
    "        return asn, \"timeout\"\n",
    "    except Exception as e:\n",
    "        print(f\"Error fetching ASN {asn}: {e}\")\n",
    "    return asn, (None, None)\n",
    "\n",
    "async def fetch_all_locations(asns):\n",
    "    results = {}\n",
    "    semaphore = asyncio.Semaphore(10)\n",
    "    async with aiohttp.ClientSession() as session:\n",
    "        async def limited(asn):\n",
    "            async with semaphore:\n",
    "                return await get_location(session, asn)\n",
    "                \n",
    "        tasks = [limited(asn) for asn in asns]\n",
    "        responses = await asyncio.gather(*tasks)\n",
    "        for asn, result in responses:\n",
    "            results[asn] = result\n",
    "    return results\n",
    "\n",
    "async def fetch_until_done(all_asns):\n",
    "    pending = set(all_asns)\n",
    "    final_results = {}\n",
    "\n",
    "    while pending:\n",
    "        results = await fetch_all_locations(pending)\n",
    "\n",
    "        # Separate successful from timed-out\n",
    "        pending = set()\n",
    "        for asn, loc in results.items():\n",
    "            if loc == \"timeout\":\n",
    "                pending.add(asn)\n",
    "            else:\n",
    "                final_results[asn] = loc\n",
    "\n",
    "    return final_results\n"
   ]
  },
  {
   "cell_type": "code",
   "execution_count": 5,
   "id": "7d4336cb-9914-4e29-af70-fb8ec6bea913",
   "metadata": {},
   "outputs": [
    {
     "name": "stdout",
     "output_type": "stream",
     "text": [
      "Graph created\n",
      "84009\n",
      "168808\n"
     ]
    }
   ],
   "source": [
    "# read file and create graph\n",
    "\n",
    "import networkx as nx\n",
    "import matplotlib.pyplot as plt\n",
    "\n",
    "# graph representing the bgp network based\n",
    "bgpNetwork = nx.DiGraph()\n",
    "\n",
    "with open(\"bview.20250301.1600.txt\", 'r') as file:\n",
    "    lines = file.readlines()\n",
    "\n",
    "\n",
    "for line in lines:\n",
    "    # get the AS path out of the line\n",
    "    splitLine = line.split(\"|\")\n",
    "    asPath = splitLine[6]\n",
    "    pathNodes = asPath.split(\" \")\n",
    "\n",
    "    # need reversed path since path structure is [currentNode, heardFrom, heardFrom... , origin]\n",
    "    reversedPath = pathNodes[::-1]\n",
    "\n",
    "    # if this is the origin of the announcement\n",
    "    if len(reversedPath) == 1:\n",
    "        bgpNetwork.add_node(reversedPath[0])\n",
    "\n",
    "    # otherwise we have multiple ASNs we add an edge from i to i + 1 to capture the full route\n",
    "    else:\n",
    "        for i in range(len(reversedPath) - 1):\n",
    "            if not reversedPath[i] == reversedPath[i + 1]:\n",
    "                # create weighted edge\n",
    "                bgpNetwork.add_edge(reversedPath[i], reversedPath[i + 1])\n",
    "\n",
    "print(\"Graph created\")\n",
    "print(bgpNetwork.number_of_nodes())\n",
    "print(bgpNetwork.number_of_edges())"
   ]
  },
  {
   "cell_type": "code",
   "execution_count": 6,
   "id": "6833d9ec",
   "metadata": {},
   "outputs": [
    {
     "name": "stdout",
     "output_type": "stream",
     "text": [
      "Data Frame:\n",
      "       out_degree  in_degree  degree_centrality  closeness_centrality\n",
      "749             1          0           0.000012              0.000000\n",
      "3356           50       6352           0.076207              0.403578\n",
      "1299           51       2450           0.029771              0.400301\n",
      "13030           7        801           0.009618              0.353370\n",
      "2914           36       1482           0.018070              0.367812\n"
     ]
    }
   ],
   "source": [
    "import pandas as pd\n",
    "# Node features to input into Machine Learning Algo \n",
    "\n",
    "# out-degrees dictionary \n",
    "out_degree_dict = dict(bgpNetwork.out_degree())\n",
    "\n",
    "# in-degrees dictionary\n",
    "in_degree_dict = dict(bgpNetwork.in_degree())\n",
    "\n",
    "# degree centrality \n",
    "degree_centrality = nx.degree_centrality(bgpNetwork)\n",
    "\n",
    "# closeness centrality, takes a while but seems resonable time\n",
    "closeness_centrality = nx.closeness_centrality(bgpNetwork)\n",
    "\n",
    "\n",
    "\n",
    "# convert to DataFrame for ML\n",
    "df = pd.DataFrame.from_dict(out_degree_dict, orient='index', columns=['out_degree'])\n",
    "\n",
    "# to add more columns (features) to the table \n",
    "#df['column name'] = values \n",
    "\n",
    "df['in_degree'] = in_degree_dict\n",
    "df['degree_centrality'] = degree_centrality\n",
    "df['closeness_centrality'] = closeness_centrality\n",
    "\n",
    "print(\"Data Frame:\")\n",
    "print(df.head())\n"
   ]
  },
  {
   "cell_type": "code",
   "execution_count": 7,
   "id": "b99bc0ce-9938-48c0-a380-bf81811dfc8a",
   "metadata": {},
   "outputs": [
    {
     "name": "stdout",
     "output_type": "stream",
     "text": [
      "2\n",
      "1\n"
     ]
    },
    {
     "data": {
      "image/png": "[encoded data removed]",
      "text/plain": [
       "<Figure size 1000x1000 with 1 Axes>"
      ]
     },
     "metadata": {},
     "output_type": "display_data"
    }
   ],
   "source": [
    "# test use of bgpSubgraph\n",
    "\n",
    "test = bgpSubgraph(\"749\")\n",
    "print(test.number_of_nodes())\n",
    "print(test.number_of_edges())\n",
    "\n",
    "\n",
    "pos = nx.spring_layout(test, k=0.8)\n",
    "plt.figure(figsize=(10, 10))\n",
    "nx.draw(test, pos, with_labels=True, node_color=\"lightblue\", edge_color=\"gray\", font_size=10, arrows=True)\n",
    "plt.show()"
   ]
  },
  {
   "cell_type": "code",
   "execution_count": 8,
   "id": "45174fb9-aa4f-4d62-80ed-cecb6b6ecc91",
   "metadata": {},
   "outputs": [
    {
     "name": "stdout",
     "output_type": "stream",
     "text": [
      "Timeout while fetching ASN 140119\n",
      "Timeout while fetching ASN 269538\n",
      "Timeout while fetching ASN 397213\n",
      "Timeout while fetching ASN 205312\n"
     ]
    },
    {
     "ename": "CancelledError",
     "evalue": "",
     "output_type": "error",
     "traceback": [
      "\u001b[0;31m---------------------------------------------------------------------------\u001b[0m",
      "\u001b[0;31mCancelledError\u001b[0m                            Traceback (most recent call last)",
      "Cell \u001b[0;32mIn[4], line 45\u001b[0m, in \u001b[0;36mfetch_all_locations.<locals>.limited\u001b[0;34m(asn)\u001b[0m\n\u001b[1;32m     44\u001b[0m \u001b[38;5;28;01masync\u001b[39;00m \u001b[38;5;28;01mwith\u001b[39;00m semaphore:\n\u001b[0;32m---> 45\u001b[0m     \u001b[38;5;28;01mreturn\u001b[39;00m \u001b[38;5;28;01mawait\u001b[39;00m get_location(session, asn)\n",
      "Cell \u001b[0;32mIn[4], line 24\u001b[0m, in \u001b[0;36mget_location\u001b[0;34m(session, asn)\u001b[0m\n\u001b[1;32m     23\u001b[0m \u001b[38;5;28;01mtry\u001b[39;00m:\n\u001b[0;32m---> 24\u001b[0m     \u001b[38;5;28;01masync\u001b[39;00m \u001b[38;5;28;01mwith\u001b[39;00m session\u001b[38;5;241m.\u001b[39mget(url, timeout\u001b[38;5;241m=\u001b[39maiohttp\u001b[38;5;241m.\u001b[39mClientTimeout(total\u001b[38;5;241m=\u001b[39m\u001b[38;5;241m10\u001b[39m)) \u001b[38;5;28;01mas\u001b[39;00m response:\n\u001b[1;32m     25\u001b[0m         \u001b[38;5;28;01mif\u001b[39;00m response\u001b[38;5;241m.\u001b[39mstatus \u001b[38;5;241m==\u001b[39m \u001b[38;5;241m200\u001b[39m:\n",
      "File \u001b[0;32m/opt/anaconda3/envs/comp142_env/lib/python3.9/site-packages/aiohttp/client.py:1425\u001b[0m, in \u001b[0;36m_BaseRequestContextManager.__aenter__\u001b[0;34m(self)\u001b[0m\n\u001b[1;32m   1424\u001b[0m \u001b[38;5;28;01masync\u001b[39;00m \u001b[38;5;28;01mdef\u001b[39;00m \u001b[38;5;21m__aenter__\u001b[39m(\u001b[38;5;28mself\u001b[39m) \u001b[38;5;241m-\u001b[39m\u001b[38;5;241m>\u001b[39m _RetType:\n\u001b[0;32m-> 1425\u001b[0m     \u001b[38;5;28mself\u001b[39m\u001b[38;5;241m.\u001b[39m_resp: _RetType \u001b[38;5;241m=\u001b[39m \u001b[38;5;28;01mawait\u001b[39;00m \u001b[38;5;28mself\u001b[39m\u001b[38;5;241m.\u001b[39m_coro\n\u001b[1;32m   1426\u001b[0m     \u001b[38;5;28;01mreturn\u001b[39;00m \u001b[38;5;28;01mawait\u001b[39;00m \u001b[38;5;28mself\u001b[39m\u001b[38;5;241m.\u001b[39m_resp\u001b[38;5;241m.\u001b[39m\u001b[38;5;21m__aenter__\u001b[39m()\n",
      "File \u001b[0;32m/opt/anaconda3/envs/comp142_env/lib/python3.9/site-packages/aiohttp/client.py:730\u001b[0m, in \u001b[0;36mClientSession._request\u001b[0;34m(self, method, str_or_url, params, data, json, cookies, headers, skip_auto_headers, auth, allow_redirects, max_redirects, compress, chunked, expect100, raise_for_status, read_until_eof, proxy, proxy_auth, timeout, verify_ssl, fingerprint, ssl_context, ssl, server_hostname, proxy_headers, trace_request_ctx, read_bufsize, auto_decompress, max_line_size, max_field_size)\u001b[0m\n\u001b[1;32m    729\u001b[0m \u001b[38;5;28;01mtry\u001b[39;00m:\n\u001b[0;32m--> 730\u001b[0m     \u001b[38;5;28;01mawait\u001b[39;00m resp\u001b[38;5;241m.\u001b[39mstart(conn)\n\u001b[1;32m    731\u001b[0m \u001b[38;5;28;01mexcept\u001b[39;00m \u001b[38;5;167;01mBaseException\u001b[39;00m:\n",
      "File \u001b[0;32m/opt/anaconda3/envs/comp142_env/lib/python3.9/site-packages/aiohttp/client_reqrep.py:1059\u001b[0m, in \u001b[0;36mClientResponse.start\u001b[0;34m(self, connection)\u001b[0m\n\u001b[1;32m   1058\u001b[0m     protocol \u001b[38;5;241m=\u001b[39m \u001b[38;5;28mself\u001b[39m\u001b[38;5;241m.\u001b[39m_protocol\n\u001b[0;32m-> 1059\u001b[0m     message, payload \u001b[38;5;241m=\u001b[39m \u001b[38;5;28;01mawait\u001b[39;00m protocol\u001b[38;5;241m.\u001b[39mread()  \u001b[38;5;66;03m# type: ignore[union-attr]\u001b[39;00m\n\u001b[1;32m   1060\u001b[0m \u001b[38;5;28;01mexcept\u001b[39;00m http\u001b[38;5;241m.\u001b[39mHttpProcessingError \u001b[38;5;28;01mas\u001b[39;00m exc:\n",
      "File \u001b[0;32m/opt/anaconda3/envs/comp142_env/lib/python3.9/site-packages/aiohttp/streams.py:672\u001b[0m, in \u001b[0;36mDataQueue.read\u001b[0;34m(self)\u001b[0m\n\u001b[1;32m    671\u001b[0m \u001b[38;5;28;01mtry\u001b[39;00m:\n\u001b[0;32m--> 672\u001b[0m     \u001b[38;5;28;01mawait\u001b[39;00m \u001b[38;5;28mself\u001b[39m\u001b[38;5;241m.\u001b[39m_waiter\n\u001b[1;32m    673\u001b[0m \u001b[38;5;28;01mexcept\u001b[39;00m (asyncio\u001b[38;5;241m.\u001b[39mCancelledError, asyncio\u001b[38;5;241m.\u001b[39mTimeoutError):\n",
      "\u001b[0;31mCancelledError\u001b[0m: ",
      "\nDuring handling of the above exception, another exception occurred:\n",
      "\u001b[0;31mCancelledError\u001b[0m                            Traceback (most recent call last)",
      "Cell \u001b[0;32mIn[8], line 1\u001b[0m\n\u001b[0;32m----> 1\u001b[0m asnLocations \u001b[38;5;241m=\u001b[39m \u001b[38;5;28;01mawait\u001b[39;00m fetch_until_done(bgpNetwork\u001b[38;5;241m.\u001b[39mnodes())\n",
      "Cell \u001b[0;32mIn[4], line 58\u001b[0m, in \u001b[0;36mfetch_until_done\u001b[0;34m(all_asns)\u001b[0m\n\u001b[1;32m     55\u001b[0m final_results \u001b[38;5;241m=\u001b[39m {}\n\u001b[1;32m     57\u001b[0m \u001b[38;5;28;01mwhile\u001b[39;00m pending:\n\u001b[0;32m---> 58\u001b[0m     results \u001b[38;5;241m=\u001b[39m \u001b[38;5;28;01mawait\u001b[39;00m fetch_all_locations(pending)\n\u001b[1;32m     60\u001b[0m     \u001b[38;5;66;03m# Separate successful from timed-out\u001b[39;00m\n\u001b[1;32m     61\u001b[0m     pending \u001b[38;5;241m=\u001b[39m \u001b[38;5;28mset\u001b[39m()\n",
      "Cell \u001b[0;32mIn[4], line 48\u001b[0m, in \u001b[0;36mfetch_all_locations\u001b[0;34m(asns)\u001b[0m\n\u001b[1;32m     45\u001b[0m         \u001b[38;5;28;01mreturn\u001b[39;00m \u001b[38;5;28;01mawait\u001b[39;00m get_location(session, asn)\n\u001b[1;32m     47\u001b[0m tasks \u001b[38;5;241m=\u001b[39m [limited(asn) \u001b[38;5;28;01mfor\u001b[39;00m asn \u001b[38;5;129;01min\u001b[39;00m asns]\n\u001b[0;32m---> 48\u001b[0m responses \u001b[38;5;241m=\u001b[39m \u001b[38;5;28;01mawait\u001b[39;00m asyncio\u001b[38;5;241m.\u001b[39mgather(\u001b[38;5;241m*\u001b[39mtasks)\n\u001b[1;32m     49\u001b[0m \u001b[38;5;28;01mfor\u001b[39;00m asn, result \u001b[38;5;129;01min\u001b[39;00m responses:\n\u001b[1;32m     50\u001b[0m     results[asn] \u001b[38;5;241m=\u001b[39m result\n",
      "\u001b[0;31mCancelledError\u001b[0m: "
     ]
    }
   ],
   "source": [
    "asnLocations = await fetch_until_done(bgpNetwork.nodes())"
   ]
  },
  {
   "cell_type": "code",
   "execution_count": 11,
   "id": "ccf3f9d1-a4b9-4049-a54b-99ae95d6ac87",
   "metadata": {},
   "outputs": [
    {
     "ename": "NameError",
     "evalue": "name 'asnLocations' is not defined",
     "output_type": "error",
     "traceback": [
      "\u001b[0;31m---------------------------------------------------------------------------\u001b[0m",
      "\u001b[0;31mNameError\u001b[0m                                 Traceback (most recent call last)",
      "Cell \u001b[0;32mIn[11], line 1\u001b[0m\n\u001b[0;32m----> 1\u001b[0m \u001b[38;5;28;01mfor\u001b[39;00m key, value \u001b[38;5;129;01min\u001b[39;00m \u001b[43masnLocations\u001b[49m\u001b[38;5;241m.\u001b[39mitems():\n\u001b[1;32m      2\u001b[0m     \u001b[38;5;28mprint\u001b[39m(\u001b[38;5;124mf\u001b[39m\u001b[38;5;124m\"\u001b[39m\u001b[38;5;132;01m{\u001b[39;00mkey\u001b[38;5;132;01m}\u001b[39;00m\u001b[38;5;124m: \u001b[39m\u001b[38;5;132;01m{\u001b[39;00mvalue\u001b[38;5;132;01m}\u001b[39;00m\u001b[38;5;124m\"\u001b[39m)\n",
      "\u001b[0;31mNameError\u001b[0m: name 'asnLocations' is not defined"
     ]
    }
   ],
   "source": [
    "for key, value in asnLocations.items():\n",
    "    print(f\"{key}: {value}\")"
   ]
  },
  {
   "cell_type": "code",
   "execution_count": 12,
   "id": "bd7c86ac-bae9-4529-a2df-458bc3c8e222",
   "metadata": {},
   "outputs": [
    {
     "ename": "NameError",
     "evalue": "name 'asnLocations' is not defined",
     "output_type": "error",
     "traceback": [
      "\u001b[0;31m---------------------------------------------------------------------------\u001b[0m",
      "\u001b[0;31mNameError\u001b[0m                                 Traceback (most recent call last)",
      "Cell \u001b[0;32mIn[12], line 2\u001b[0m\n\u001b[1;32m      1\u001b[0m \u001b[38;5;28;01mfor\u001b[39;00m asn1, asn2 \u001b[38;5;129;01min\u001b[39;00m bgpNetwork\u001b[38;5;241m.\u001b[39medges():\n\u001b[0;32m----> 2\u001b[0m     lat1, lon1 \u001b[38;5;241m=\u001b[39m \u001b[43masnLocations\u001b[49m[asn1]\n\u001b[1;32m      3\u001b[0m     lat2, lon2 \u001b[38;5;241m=\u001b[39m asnLocations[asn2]\n\u001b[1;32m      5\u001b[0m     \u001b[38;5;28;01mif\u001b[39;00m lat1 \u001b[38;5;241m==\u001b[39m \u001b[38;5;28;01mNone\u001b[39;00m \u001b[38;5;129;01mor\u001b[39;00m lat2 \u001b[38;5;241m==\u001b[39m \u001b[38;5;28;01mNone\u001b[39;00m \u001b[38;5;129;01mor\u001b[39;00m lon1 \u001b[38;5;241m==\u001b[39m \u001b[38;5;28;01mNone\u001b[39;00m \u001b[38;5;129;01mor\u001b[39;00m lon2 \u001b[38;5;241m==\u001b[39m \u001b[38;5;28;01mNone\u001b[39;00m:\n",
      "\u001b[0;31mNameError\u001b[0m: name 'asnLocations' is not defined"
     ]
    }
   ],
   "source": [
    "for asn1, asn2 in bgpNetwork.edges():\n",
    "    lat1, lon1 = asnLocations[asn1]\n",
    "    lat2, lon2 = asnLocations[asn2]\n",
    "\n",
    "    if lat1 == None or lat2 == None or lon1 == None or lon2 == None:\n",
    "        continue\n",
    "\n",
    "    distance = haversine(lat1, lon1,lat2, lon2)\n",
    "\n",
    "    bgpNetwork[asn1][asn2]['weight'] = distance\n",
    "    "
   ]
  },
  {
   "cell_type": "code",
   "execution_count": null,
   "id": "585ca9b4",
   "metadata": {},
   "outputs": [],
   "source": [
    "def get_tier(asn):\n",
    "    url = f\"https://api.asrank.caida.org/v2/restful/asns/{asn}\"\n",
    "    try:\n",
    "        response = requests.get(url, timeout=5)\n",
    "        if response.status_code == 200:\n",
    "            data = response.json().get('data', {}).get('asn', {})\n",
    "            degrees = data.get('asnDegree', {})\n",
    "            provider = degrees.get('provider', 0)\n",
    "            peer = degrees.get('peer', 0)\n",
    "            customer = degrees.get('customer', 0)\n",
    "            total = degrees.get('total', 0)\n",
    "            rank = data.get(\"rank\", float('inf'))\n",
    "            clique = data.get(\"cliqueMember\", False)\n",
    "\n",
    "            # Tier 1\n",
    "            if clique and provider == 0 and peer > 100 and customer > 100 and total > 200:\n",
    "                return 1\n",
    "\n",
    "            # Tier 2: \n",
    "            elif provider > 0 and peer > 50 and customer > 10 and total > 50:\n",
    "                return 2\n",
    "\n",
    "            # Tier 3\n",
    "            else:\n",
    "                return 3\n",
    "    except Exception as e:\n",
    "        print(f\"Error ASN {asn}: {e}\")\n",
    "    return None\n"
   ]
  },
  {
   "cell_type": "code",
   "execution_count": null,
   "id": "fbfcf66e",
   "metadata": {},
   "outputs": [
    {
     "name": "stdout",
     "output_type": "stream",
     "text": [
      "3    123\n",
      "2     58\n",
      "Name: tier, dtype: int64\n"
     ]
    }
   ],
   "source": [
    "# label\n",
    "tier_labels = {}\n",
    "for asn in df.index[:300]:  # labeling 300 for now\n",
    "    tier = get_tier(asn)\n",
    "    if tier:\n",
    "        tier_labels[asn] = tier\n",
    "\n",
    "df['tier'] = df.index.map(tier_labels)\n",
    "\n",
    " # todo check how many dropped\n",
    "df = df.dropna(subset=['tier'])\n",
    "df['tier'] = df['tier'].astype(int)\n",
    "\n",
    "print(df['tier'].value_counts())\n"
   ]
  },
  {
   "cell_type": "code",
   "execution_count": null,
   "id": "337aff20",
   "metadata": {},
   "outputs": [
    {
     "name": "stdout",
     "output_type": "stream",
     "text": [
      "              precision    recall  f1-score   support\n",
      "\n",
      "           2       0.65      0.83      0.73        18\n",
      "           3       0.91      0.78      0.84        37\n",
      "\n",
      "    accuracy                           0.80        55\n",
      "   macro avg       0.78      0.81      0.79        55\n",
      "weighted avg       0.82      0.80      0.80        55\n",
      "\n"
     ]
    }
   ],
   "source": [
    "\n",
    "#sus?\n",
    "from sklearn.model_selection import train_test_split\n",
    "from sklearn.ensemble import RandomForestClassifier\n",
    "from sklearn.metrics import classification_report\n",
    "\n",
    "X = df[['out_degree', 'in_degree', 'degree_centrality', 'closeness_centrality']]\n",
    "y = df['tier']\n",
    "\n",
    "X_train, X_test, y_train, y_test = train_test_split(X, y, stratify=y, test_size=0.3, random_state=42)\n",
    "\n",
    "model = RandomForestClassifier(random_state=42)\n",
    "model.fit(X_train, y_train)\n",
    "\n",
    "y_pred = model.predict(X_test)\n",
    "print(classification_report(y_test, y_pred))\n"
   ]
  },
  {
   "cell_type": "code",
   "execution_count": 27,
   "id": "4a7be19c",
   "metadata": {},
   "outputs": [
    {
     "name": "stdout",
     "output_type": "stream",
     "text": [
      "Unique: 181\n"
     ]
    }
   ],
   "source": [
    "unique = df.index.unique()\n",
    "print(f\"Unique: {len(unique)}\")\n",
    "\n"
   ]
  }
 ],
 "metadata": {
  "kernelspec": {
   "display_name": "comp142_env",
   "language": "python",
   "name": "python3"
  },
  "language_info": {
   "codemirror_mode": {
    "name": "ipython",
    "version": 3
   },
   "file_extension": ".py",
   "mimetype": "text/x-python",
   "name": "python",
   "nbconvert_exporter": "python",
   "pygments_lexer": "ipython3",
   "version": "3.9.21"
  }
 },
 "nbformat": 4,
 "nbformat_minor": 5
}
